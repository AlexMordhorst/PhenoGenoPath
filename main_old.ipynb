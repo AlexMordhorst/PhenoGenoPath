{
 "cells": [
  {
   "cell_type": "code",
   "execution_count": 1,
   "id": "initial_id",
   "metadata": {
    "collapsed": true,
    "ExecuteTime": {
     "end_time": "2024-08-04T13:38:25.259385Z",
     "start_time": "2024-08-04T13:37:55.644137Z"
    }
   },
   "outputs": [],
   "source": [
    "import numpy as np\n",
    "import pandas as pd\n",
    "import omim"
   ]
  },
  {
   "cell_type": "code",
   "execution_count": 29,
   "outputs": [],
   "source": [
    "table = pd.read_csv(\"./Data/vartest.tsv\", sep='\\t')\n",
    "table2 = table.iloc[:, [0,1,2,3,6,8,22,24,25,26,40]].sort_values(\"Pathogenicity Score\", ascending=False).loc[table[\"Pathogenicity Score\"] >= 15]"
   ],
   "metadata": {
    "collapsed": false,
    "ExecuteTime": {
     "end_time": "2024-06-18T20:52:10.197341Z",
     "start_time": "2024-06-18T20:52:10.164490Z"
    }
   },
   "id": "ee0fd0ddfd6bcdca"
  },
  {
   "cell_type": "code",
   "execution_count": 30,
   "outputs": [
    {
     "name": "stdout",
     "output_type": "stream",
     "text": [
      "   Chromosome   Position         Reference bases Alternative bases  \\\n",
      "0        chr1  230391026                       G                 T   \n",
      "2        chr5   66462839                     AAG                 A   \n",
      "1        chr5   66462839                     AAG                 A   \n",
      "3       chr17   38545871                       T                TG   \n",
      "4       chr12   88588684                       C                CT   \n",
      "..        ...        ...                     ...               ...   \n",
      "90      chr18   43523123                       T                 C   \n",
      "91      chr19    4513088                       G                 A   \n",
      "93       chrX  153763423                       C                 T   \n",
      "94      chr14  105715318  CCCCGCGCCAGCGCCGCCGCCG                 C   \n",
      "95       chr6   26545550                       C                 T   \n",
      "\n",
      "    In Clinvar?  Max. freq. in gnomAD exomes Gene Symbol  \\\n",
      "0         False                     0.000000      GALNT2   \n",
      "2         False                     0.000013       MAST4   \n",
      "1         False                     0.000013       MAST4   \n",
      "3         False                     0.000004       TOP2A   \n",
      "4         False                     0.000004       TMTC3   \n",
      "..          ...                          ...         ...   \n",
      "90        False                     0.000032        EPG5   \n",
      "91        False                     0.000000       PLIN4   \n",
      "93        False                     0.000000        G6PD   \n",
      "94        False                     0.000000       BTBD6   \n",
      "95        False                     0.000000       HMGN4   \n",
      "\n",
      "                       Most pathogenic variant effect Protein HGVS change  \\\n",
      "0                                         stop_gained             p.G358*   \n",
      "2                               frameshift_truncation        p.S2613Ffs*3   \n",
      "1                               frameshift_truncation        p.S2613Ffs*3   \n",
      "3                               frameshift_elongation        p.H1499Pfs*5   \n",
      "4                                         stop_gained             p.N669*   \n",
      "..                                                ...                 ...   \n",
      "90  splice_region_variant;coding_transcript_intron...                 p.?   \n",
      "91                                   missense_variant             p.T281I   \n",
      "93                                   missense_variant             p.A179T   \n",
      "94                                   inframe_deletion        p.P44_P50del   \n",
      "95                                   missense_variant              p.P39L   \n",
      "\n",
      "   Nucleotide HGVS change  Pathogenicity Score  \n",
      "0               c.1072G>T                42.00  \n",
      "2          c.7833_7834del                35.00  \n",
      "1          c.7833_7834del                35.00  \n",
      "3               c.4495dup                33.00  \n",
      "4               c.2003dup                33.00  \n",
      "..                    ...                  ...  \n",
      "90            c.1943+4A>G                15.70  \n",
      "91               c.842C>T                15.36  \n",
      "93               c.535G>A                15.24  \n",
      "94           c.112_132del                15.22  \n",
      "95               c.116C>T                15.04  \n",
      "\n",
      "[95 rows x 11 columns]\n"
     ]
    }
   ],
   "source": [
    "print(table2)"
   ],
   "metadata": {
    "collapsed": false,
    "ExecuteTime": {
     "end_time": "2024-06-18T20:52:10.901643Z",
     "start_time": "2024-06-18T20:52:10.892182Z"
    }
   },
   "id": "4d3ac54e1bd4a7aa"
  },
  {
   "cell_type": "code",
   "execution_count": null,
   "outputs": [],
   "source": [],
   "metadata": {
    "collapsed": false
   },
   "id": "2141eff4deb2ad43"
  }
 ],
 "metadata": {
  "kernelspec": {
   "display_name": "Python 3",
   "language": "python",
   "name": "python3"
  },
  "language_info": {
   "codemirror_mode": {
    "name": "ipython",
    "version": 2
   },
   "file_extension": ".py",
   "mimetype": "text/x-python",
   "name": "python",
   "nbconvert_exporter": "python",
   "pygments_lexer": "ipython2",
   "version": "2.7.6"
  }
 },
 "nbformat": 4,
 "nbformat_minor": 5
}
