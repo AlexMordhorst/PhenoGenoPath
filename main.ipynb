{
 "cells": [
  {
   "cell_type": "code",
   "execution_count": 26,
   "id": "initial_id",
   "metadata": {
    "collapsed": true,
    "ExecuteTime": {
     "end_time": "2024-06-18T20:39:22.278541Z",
     "start_time": "2024-06-18T20:39:22.257597Z"
    }
   },
   "outputs": [],
   "source": [
    "import numpy as np\n",
    "import pandas as pd\n",
    "import omim"
   ]
  },
  {
   "cell_type": "code",
   "execution_count": 24,
   "outputs": [],
   "source": [
    "table = pd.read_csv(\"./Data/vartest.tsv\", sep='\\t')\n",
    "table2 = table.iloc[:, [0,1,2,3,6,8,22,24,25,26,40]].sort_values(\"Pathogenicity Score\", ascending=False)."
   ],
   "metadata": {
    "collapsed": false,
    "ExecuteTime": {
     "end_time": "2024-06-18T20:37:12.409100Z",
     "start_time": "2024-06-18T20:37:12.348132Z"
    }
   },
   "id": "ee0fd0ddfd6bcdca"
  },
  {
   "cell_type": "code",
   "execution_count": 25,
   "outputs": [
    {
     "name": "stdout",
     "output_type": "stream",
     "text": [
      "    Chromosome   Position Reference bases Alternative bases  In Clinvar?  \\\n",
      "0         chr1  230391026               G                 T        False   \n",
      "2         chr5   66462839             AAG                 A        False   \n",
      "1         chr5   66462839             AAG                 A        False   \n",
      "3        chr17   38545871               T                TG        False   \n",
      "4        chr12   88588684               C                CT        False   \n",
      "..         ...        ...             ...               ...          ...   \n",
      "126      chr20      76784               G                 A        False   \n",
      "127      chr20   49493040               G                 A        False   \n",
      "92       chr19    4513094               C                 G        False   \n",
      "128       chr4  169189051               C                 T        False   \n",
      "129      chr11    1093312               C                 G        False   \n",
      "\n",
      "     Max. freq. in gnomAD exomes Gene Symbol Most pathogenic variant effect  \\\n",
      "0                       0.000000      GALNT2                    stop_gained   \n",
      "2                       0.000013       MAST4          frameshift_truncation   \n",
      "1                       0.000013       MAST4          frameshift_truncation   \n",
      "3                       0.000004       TOP2A          frameshift_elongation   \n",
      "4                       0.000004       TMTC3                    stop_gained   \n",
      "..                           ...         ...                            ...   \n",
      "126                     0.000044     DEFB125               missense_variant   \n",
      "127                     0.000000       BCAS4               missense_variant   \n",
      "92                      0.000000       PLIN4               missense_variant   \n",
      "128                     0.000072       DDX60               missense_variant   \n",
      "129                     0.000000        MUC2               missense_variant   \n",
      "\n",
      "    Protein HGVS change Nucleotide HGVS change  Pathogenicity Score  \n",
      "0               p.G358*              c.1072G>T               42.000  \n",
      "2          p.S2613Ffs*3         c.7833_7834del               35.000  \n",
      "1          p.S2613Ffs*3         c.7833_7834del               35.000  \n",
      "3          p.H1499Pfs*5              c.4495dup               33.000  \n",
      "4               p.N669*              c.2003dup               33.000  \n",
      "..                  ...                    ...                  ...  \n",
      "126              p.R66Q               c.197G>A                0.597  \n",
      "127             p.A202T               c.604G>A                0.034  \n",
      "92              p.S279T               c.836G>C                0.002  \n",
      "128             p.R957H              c.2870G>A                0.001  \n",
      "129            p.T1710A              c.5128A>G                0.001  \n",
      "\n",
      "[130 rows x 11 columns]\n"
     ]
    }
   ],
   "source": [
    "print(table2)"
   ],
   "metadata": {
    "collapsed": false,
    "ExecuteTime": {
     "end_time": "2024-06-18T20:37:13.057943Z",
     "start_time": "2024-06-18T20:37:13.044779Z"
    }
   },
   "id": "4d3ac54e1bd4a7aa"
  },
  {
   "cell_type": "code",
   "execution_count": null,
   "outputs": [],
   "source": [],
   "metadata": {
    "collapsed": false
   },
   "id": "2141eff4deb2ad43"
  }
 ],
 "metadata": {
  "kernelspec": {
   "display_name": "Python 3",
   "language": "python",
   "name": "python3"
  },
  "language_info": {
   "codemirror_mode": {
    "name": "ipython",
    "version": 2
   },
   "file_extension": ".py",
   "mimetype": "text/x-python",
   "name": "python",
   "nbconvert_exporter": "python",
   "pygments_lexer": "ipython2",
   "version": "2.7.6"
  }
 },
 "nbformat": 4,
 "nbformat_minor": 5
}
